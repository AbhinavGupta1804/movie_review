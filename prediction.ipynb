{
 "cells": [
  {
   "cell_type": "code",
   "execution_count": null,
   "metadata": {},
   "outputs": [
    {
     "name": "stderr",
     "output_type": "stream",
     "text": [
      "WARNING:absl:Compiled the loaded model, but the compiled metrics have yet to be built. `model.compile_metrics` will be empty until you train or evaluate the model.\n"
     ]
    },
    {
     "data": {
      "text/html": [
       "<pre style=\"white-space:pre;overflow-x:auto;line-height:normal;font-family:Menlo,'DejaVu Sans Mono',consolas,'Courier New',monospace\"><span style=\"font-weight: bold\">Model: \"sequential\"</span>\n",
       "</pre>\n"
      ],
      "text/plain": [
       "\u001b[1mModel: \"sequential\"\u001b[0m\n"
      ]
     },
     "metadata": {},
     "output_type": "display_data"
    },
    {
     "data": {
      "text/html": [
       "<pre style=\"white-space:pre;overflow-x:auto;line-height:normal;font-family:Menlo,'DejaVu Sans Mono',consolas,'Courier New',monospace\">┏━━━━━━━━━━━━━━━━━━━━━━━━━━━━━━━━━┳━━━━━━━━━━━━━━━━━━━━━━━━┳━━━━━━━━━━━━━━━┓\n",
       "┃<span style=\"font-weight: bold\"> Layer (type)                    </span>┃<span style=\"font-weight: bold\"> Output Shape           </span>┃<span style=\"font-weight: bold\">       Param # </span>┃\n",
       "┡━━━━━━━━━━━━━━━━━━━━━━━━━━━━━━━━━╇━━━━━━━━━━━━━━━━━━━━━━━━╇━━━━━━━━━━━━━━━┩\n",
       "│ embedding (<span style=\"color: #0087ff; text-decoration-color: #0087ff\">Embedding</span>)           │ (<span style=\"color: #00af00; text-decoration-color: #00af00\">32</span>, <span style=\"color: #00af00; text-decoration-color: #00af00\">500</span>, <span style=\"color: #00af00; text-decoration-color: #00af00\">128</span>)         │     <span style=\"color: #00af00; text-decoration-color: #00af00\">1,280,000</span> │\n",
       "├─────────────────────────────────┼────────────────────────┼───────────────┤\n",
       "│ simple_rnn (<span style=\"color: #0087ff; text-decoration-color: #0087ff\">SimpleRNN</span>)          │ (<span style=\"color: #00af00; text-decoration-color: #00af00\">32</span>, <span style=\"color: #00af00; text-decoration-color: #00af00\">128</span>)              │        <span style=\"color: #00af00; text-decoration-color: #00af00\">32,896</span> │\n",
       "├─────────────────────────────────┼────────────────────────┼───────────────┤\n",
       "│ dense (<span style=\"color: #0087ff; text-decoration-color: #0087ff\">Dense</span>)                   │ (<span style=\"color: #00af00; text-decoration-color: #00af00\">32</span>, <span style=\"color: #00af00; text-decoration-color: #00af00\">1</span>)                │           <span style=\"color: #00af00; text-decoration-color: #00af00\">129</span> │\n",
       "└─────────────────────────────────┴────────────────────────┴───────────────┘\n",
       "</pre>\n"
      ],
      "text/plain": [
       "┏━━━━━━━━━━━━━━━━━━━━━━━━━━━━━━━━━┳━━━━━━━━━━━━━━━━━━━━━━━━┳━━━━━━━━━━━━━━━┓\n",
       "┃\u001b[1m \u001b[0m\u001b[1mLayer (type)                   \u001b[0m\u001b[1m \u001b[0m┃\u001b[1m \u001b[0m\u001b[1mOutput Shape          \u001b[0m\u001b[1m \u001b[0m┃\u001b[1m \u001b[0m\u001b[1m      Param #\u001b[0m\u001b[1m \u001b[0m┃\n",
       "┡━━━━━━━━━━━━━━━━━━━━━━━━━━━━━━━━━╇━━━━━━━━━━━━━━━━━━━━━━━━╇━━━━━━━━━━━━━━━┩\n",
       "│ embedding (\u001b[38;5;33mEmbedding\u001b[0m)           │ (\u001b[38;5;34m32\u001b[0m, \u001b[38;5;34m500\u001b[0m, \u001b[38;5;34m128\u001b[0m)         │     \u001b[38;5;34m1,280,000\u001b[0m │\n",
       "├─────────────────────────────────┼────────────────────────┼───────────────┤\n",
       "│ simple_rnn (\u001b[38;5;33mSimpleRNN\u001b[0m)          │ (\u001b[38;5;34m32\u001b[0m, \u001b[38;5;34m128\u001b[0m)              │        \u001b[38;5;34m32,896\u001b[0m │\n",
       "├─────────────────────────────────┼────────────────────────┼───────────────┤\n",
       "│ dense (\u001b[38;5;33mDense\u001b[0m)                   │ (\u001b[38;5;34m32\u001b[0m, \u001b[38;5;34m1\u001b[0m)                │           \u001b[38;5;34m129\u001b[0m │\n",
       "└─────────────────────────────────┴────────────────────────┴───────────────┘\n"
      ]
     },
     "metadata": {},
     "output_type": "display_data"
    },
    {
     "data": {
      "text/html": [
       "<pre style=\"white-space:pre;overflow-x:auto;line-height:normal;font-family:Menlo,'DejaVu Sans Mono',consolas,'Courier New',monospace\"><span style=\"font-weight: bold\"> Total params: </span><span style=\"color: #00af00; text-decoration-color: #00af00\">1,313,027</span> (5.01 MB)\n",
       "</pre>\n"
      ],
      "text/plain": [
       "\u001b[1m Total params: \u001b[0m\u001b[38;5;34m1,313,027\u001b[0m (5.01 MB)\n"
      ]
     },
     "metadata": {},
     "output_type": "display_data"
    },
    {
     "data": {
      "text/html": [
       "<pre style=\"white-space:pre;overflow-x:auto;line-height:normal;font-family:Menlo,'DejaVu Sans Mono',consolas,'Courier New',monospace\"><span style=\"font-weight: bold\"> Trainable params: </span><span style=\"color: #00af00; text-decoration-color: #00af00\">1,313,025</span> (5.01 MB)\n",
       "</pre>\n"
      ],
      "text/plain": [
       "\u001b[1m Trainable params: \u001b[0m\u001b[38;5;34m1,313,025\u001b[0m (5.01 MB)\n"
      ]
     },
     "metadata": {},
     "output_type": "display_data"
    },
    {
     "data": {
      "text/html": [
       "<pre style=\"white-space:pre;overflow-x:auto;line-height:normal;font-family:Menlo,'DejaVu Sans Mono',consolas,'Courier New',monospace\"><span style=\"font-weight: bold\"> Non-trainable params: </span><span style=\"color: #00af00; text-decoration-color: #00af00\">0</span> (0.00 B)\n",
       "</pre>\n"
      ],
      "text/plain": [
       "\u001b[1m Non-trainable params: \u001b[0m\u001b[38;5;34m0\u001b[0m (0.00 B)\n"
      ]
     },
     "metadata": {},
     "output_type": "display_data"
    },
    {
     "data": {
      "text/html": [
       "<pre style=\"white-space:pre;overflow-x:auto;line-height:normal;font-family:Menlo,'DejaVu Sans Mono',consolas,'Courier New',monospace\"><span style=\"font-weight: bold\"> Optimizer params: </span><span style=\"color: #00af00; text-decoration-color: #00af00\">2</span> (12.00 B)\n",
       "</pre>\n"
      ],
      "text/plain": [
       "\u001b[1m Optimizer params: \u001b[0m\u001b[38;5;34m2\u001b[0m (12.00 B)\n"
      ]
     },
     "metadata": {},
     "output_type": "display_data"
    }
   ],
   "source": [
    "# Step 1: Import Libraries and Load the Model\n",
    "import numpy as np\n",
    "import tensorflow as tf\n",
    "from tensorflow.keras.datasets import imdb\n",
    "from tensorflow.keras.preprocessing import sequence\n",
    "from tensorflow.keras.models import load_model\n",
    "\n",
    "\n",
    "# Load the IMDB dataset word index\n",
    "word_index = imdb.get_word_index()\n",
    "reverse_word_index = {value: key for key, value in word_index.items()}\n",
    "\n",
    "# Load the pre-trained model with ReLU activation\n",
    "model = load_model('simple_rnn_imdb.h5')\n",
    "model.summary()"
   ]
  },
  {
   "cell_type": "markdown",
   "metadata": {},
   "source": [
    "model.get_weights() gives you the weights applied between different parts of the RNN (input and hidden layers, hidden to hidden)."
   ]
  },
  {
   "cell_type": "code",
   "execution_count": 4,
   "metadata": {},
   "outputs": [
    {
     "data": {
      "text/plain": [
       "[array([[ 1.0012314e+00, -3.6222693e-01,  2.3774633e-01, ...,\n",
       "         -2.3111078e-01, -3.9494547e-01,  7.4680167e-01],\n",
       "        [-2.1049983e-03, -4.0705487e-02,  4.0687189e-02, ...,\n",
       "          9.4483890e-05, -5.1462753e-03, -9.1155926e-03],\n",
       "        [ 6.1172117e-02,  1.6845524e-01, -5.9356019e-02, ...,\n",
       "          1.4126170e-01,  1.6356200e-01,  1.4277092e-01],\n",
       "        ...,\n",
       "        [ 2.7066046e-02, -9.4422251e-02,  4.0203113e-02, ...,\n",
       "         -9.3202844e-02, -5.1095355e-02, -5.7722773e-02],\n",
       "        [-3.1546220e-02, -9.3015745e-02,  3.5207395e-02, ...,\n",
       "         -2.6807457e-02, -8.6943932e-02, -9.7819887e-02],\n",
       "        [-1.1748834e-02, -8.2246937e-02,  9.2886068e-02, ...,\n",
       "         -3.5567388e-02, -8.5530043e-02, -5.4510519e-02]], dtype=float32),\n",
       " array([[-0.04712019, -0.16543569, -0.14066234, ..., -0.04687752,\n",
       "          0.0703236 ,  0.09358411],\n",
       "        [-0.00598297,  0.00740785,  0.1272256 , ...,  0.08261929,\n",
       "         -0.02037367, -0.02123228],\n",
       "        [ 0.04363134,  0.11989255,  0.01447165, ..., -0.05543531,\n",
       "          0.05425227,  0.02401001],\n",
       "        ...,\n",
       "        [-0.20522629, -0.08235908, -0.1640999 , ..., -0.03728978,\n",
       "          0.0860608 ,  0.03670012],\n",
       "        [-0.06114297, -0.09127039, -0.07084237, ..., -0.20002726,\n",
       "          0.1327579 ,  0.08105171],\n",
       "        [-0.17989811, -0.10554135, -0.00554681, ...,  0.01857291,\n",
       "         -0.03100102,  0.13176548]], dtype=float32),\n",
       " array([[ 0.06169475,  0.01949639, -0.10996021, ..., -0.13297392,\n",
       "          0.01304069, -0.02330932],\n",
       "        [ 0.05732557,  0.02921133, -0.23250881, ...,  0.06020461,\n",
       "         -0.03594474,  0.03574731],\n",
       "        [-0.04505065,  0.22681312,  0.03337888, ...,  0.11615849,\n",
       "         -0.16499387,  0.08547514],\n",
       "        ...,\n",
       "        [-0.03840672,  0.08322336,  0.04220028, ...,  0.08004878,\n",
       "          0.0896097 ,  0.02296741],\n",
       "        [ 0.13442655, -0.05421475, -0.07621239, ...,  0.02976078,\n",
       "         -0.06816442, -0.05599396],\n",
       "        [-0.01149131,  0.4648437 ,  0.0716685 , ..., -0.05471271,\n",
       "         -0.01588836, -0.04504408]], dtype=float32),\n",
       " array([-8.97639245e-03, -1.52641898e-02, -4.41546105e-02, -2.32146997e-02,\n",
       "         1.87163185e-02, -5.19390665e-02,  1.26243681e-02, -5.39989807e-02,\n",
       "        -3.69065367e-02, -4.91141006e-02,  4.39449251e-02,  6.59495220e-03,\n",
       "        -1.09937834e-02, -3.16762142e-02, -2.49859155e-03,  3.67537420e-03,\n",
       "        -3.17064188e-02, -5.19329458e-02, -3.17653865e-02, -1.17299855e-02,\n",
       "         2.48432718e-02, -2.74554417e-02, -2.74595944e-03, -7.64728384e-03,\n",
       "        -1.26779424e-02,  1.96488127e-02, -2.98185982e-02,  1.72120798e-02,\n",
       "        -1.21364025e-02,  1.62081327e-02, -6.16505221e-02, -5.13139814e-02,\n",
       "        -1.15752127e-02,  6.17308095e-02, -5.39462678e-02,  1.12339016e-02,\n",
       "        -4.47469950e-03, -2.86374725e-02, -6.51750565e-02, -3.60168889e-02,\n",
       "        -6.37324527e-02, -1.90960970e-02,  2.51317918e-02,  6.62612775e-03,\n",
       "        -3.53094265e-02, -2.34205108e-02,  2.58174818e-02, -2.23853718e-02,\n",
       "        -8.66389833e-03, -2.58310661e-02,  4.43540737e-02, -4.22872193e-02,\n",
       "        -3.72385122e-02, -3.76733877e-02,  1.17946835e-02, -2.41306331e-02,\n",
       "        -3.66649101e-03,  1.95964798e-03, -1.69180501e-02,  1.07923467e-02,\n",
       "        -8.79948493e-03, -1.95576120e-02, -7.66125554e-03,  2.03541527e-03,\n",
       "        -6.21044375e-02,  5.57087995e-02, -2.58164462e-02, -5.61878718e-02,\n",
       "        -1.70264803e-02, -1.33828707e-02,  1.66326333e-02, -8.49253032e-03,\n",
       "        -5.07577229e-03, -4.84929942e-02, -3.04180793e-02, -1.50238201e-02,\n",
       "        -7.46174017e-03, -2.48901099e-02, -1.37495669e-02, -1.21089052e-02,\n",
       "        -2.49324981e-02, -2.49516387e-02,  2.14278186e-03, -1.52736306e-02,\n",
       "        -4.23565432e-02,  3.78285274e-02, -2.64029577e-03, -2.77092550e-02,\n",
       "        -7.46536180e-02, -2.77701654e-02, -6.75030276e-02,  8.89302697e-03,\n",
       "         3.22036241e-04, -1.52995472e-03, -7.11440966e-02, -1.33440401e-02,\n",
       "        -2.70152814e-03, -2.16870308e-02, -3.60392556e-02,  6.44509122e-02,\n",
       "        -5.27072251e-02,  1.42391063e-02, -4.34682705e-02, -7.25091919e-02,\n",
       "        -2.35882178e-02, -3.34347226e-02, -5.04030585e-02, -2.97569409e-02,\n",
       "         2.45560072e-02, -2.60685105e-02, -4.84651327e-02, -4.29188721e-02,\n",
       "        -1.16813136e-02, -1.53481041e-03, -4.85999398e-02,  2.13840849e-06,\n",
       "        -3.19232070e-03, -7.76604638e-02,  1.65840648e-02, -1.11355530e-02,\n",
       "         1.18542174e-02, -1.47060845e-02, -2.02736314e-02, -2.93393619e-02,\n",
       "        -4.53192815e-02, -3.22855152e-02, -3.43435034e-02, -6.98453002e-03],\n",
       "       dtype=float32),\n",
       " array([[-7.85040259e-02],\n",
       "        [-2.43412524e-01],\n",
       "        [-3.84356268e-03],\n",
       "        [ 2.03130752e-01],\n",
       "        [-8.89833570e-01],\n",
       "        [ 3.17761987e-01],\n",
       "        [ 6.34759426e-01],\n",
       "        [ 2.40270570e-02],\n",
       "        [-5.91947213e-02],\n",
       "        [ 1.27996311e-01],\n",
       "        [ 2.09605560e-01],\n",
       "        [ 1.22094946e-03],\n",
       "        [ 1.67250082e-01],\n",
       "        [-5.67473695e-02],\n",
       "        [-1.51839823e-01],\n",
       "        [ 3.03291619e-01],\n",
       "        [-7.20534801e-01],\n",
       "        [-6.06940351e-02],\n",
       "        [ 7.22078383e-02],\n",
       "        [ 1.84504882e-01],\n",
       "        [ 2.31850252e-01],\n",
       "        [ 9.22423229e-03],\n",
       "        [-1.68513447e-01],\n",
       "        [ 2.02577010e-01],\n",
       "        [ 1.60309464e-01],\n",
       "        [ 6.92505121e-01],\n",
       "        [ 2.03355119e-01],\n",
       "        [ 4.31647204e-04],\n",
       "        [ 1.87595189e-01],\n",
       "        [-8.82203653e-02],\n",
       "        [-1.84602186e-01],\n",
       "        [-4.15672928e-01],\n",
       "        [ 5.46907932e-02],\n",
       "        [ 3.40337642e-02],\n",
       "        [-2.25507524e-02],\n",
       "        [-1.23283036e-01],\n",
       "        [-7.81207010e-02],\n",
       "        [-2.35762134e-01],\n",
       "        [-7.81353951e-01],\n",
       "        [-1.02730937e-01],\n",
       "        [ 8.56416821e-02],\n",
       "        [ 1.80396721e-01],\n",
       "        [-4.43524122e-02],\n",
       "        [ 2.78395057e-01],\n",
       "        [-3.19483168e-02],\n",
       "        [ 7.17818663e-02],\n",
       "        [ 1.23669341e-01],\n",
       "        [ 9.05414522e-02],\n",
       "        [ 1.08628109e-01],\n",
       "        [ 8.09075907e-02],\n",
       "        [-4.42337245e-02],\n",
       "        [-6.98162317e-01],\n",
       "        [-2.52988309e-01],\n",
       "        [ 6.37876838e-02],\n",
       "        [-1.84452850e-02],\n",
       "        [ 1.50489613e-01],\n",
       "        [ 2.26558983e-01],\n",
       "        [-2.47182190e-01],\n",
       "        [ 3.64990324e-01],\n",
       "        [-2.08656043e-01],\n",
       "        [ 4.05846596e-01],\n",
       "        [ 1.06604196e-01],\n",
       "        [-7.15018734e-02],\n",
       "        [ 5.53798974e-02],\n",
       "        [ 8.94546568e-01],\n",
       "        [-1.04251057e-02],\n",
       "        [-2.40907639e-01],\n",
       "        [-6.90141022e-02],\n",
       "        [ 5.57444580e-02],\n",
       "        [-1.12560526e-01],\n",
       "        [ 1.86088160e-01],\n",
       "        [-2.17819095e-01],\n",
       "        [ 8.45860541e-02],\n",
       "        [-2.85805553e-01],\n",
       "        [-1.49246901e-01],\n",
       "        [-2.26389199e-01],\n",
       "        [ 1.39649719e-01],\n",
       "        [ 1.49208501e-01],\n",
       "        [-8.62858653e-01],\n",
       "        [-1.85777899e-02],\n",
       "        [-1.26535311e-01],\n",
       "        [-5.18200159e-01],\n",
       "        [ 1.23027273e-01],\n",
       "        [-8.50469321e-02],\n",
       "        [-3.64290103e-02],\n",
       "        [ 2.36705720e-01],\n",
       "        [-4.83699702e-02],\n",
       "        [-1.05221301e-01],\n",
       "        [-1.38224632e-01],\n",
       "        [-4.32194173e-02],\n",
       "        [-1.64854497e-01],\n",
       "        [-6.36979705e-03],\n",
       "        [ 2.21508652e-01],\n",
       "        [-1.36181517e-02],\n",
       "        [ 1.13601372e-01],\n",
       "        [-3.31103690e-02],\n",
       "        [-6.28036484e-02],\n",
       "        [ 1.16137549e-01],\n",
       "        [ 3.57705019e-02],\n",
       "        [ 1.63330168e-01],\n",
       "        [-1.74195737e-01],\n",
       "        [ 1.12975046e-01],\n",
       "        [-5.28027751e-02],\n",
       "        [-1.68726556e-02],\n",
       "        [-3.35655272e-01],\n",
       "        [ 3.89826223e-02],\n",
       "        [ 5.94784506e-03],\n",
       "        [ 2.04102471e-01],\n",
       "        [-1.33516729e-01],\n",
       "        [-1.01952046e-01],\n",
       "        [-9.80938226e-02],\n",
       "        [-2.46574849e-01],\n",
       "        [-1.75395548e-01],\n",
       "        [-1.71954967e-02],\n",
       "        [-1.62381396e-01],\n",
       "        [ 1.21633641e-01],\n",
       "        [ 2.67619461e-01],\n",
       "        [ 7.54118785e-02],\n",
       "        [-9.92589295e-02],\n",
       "        [ 8.86168331e-02],\n",
       "        [ 2.97901332e-01],\n",
       "        [ 1.90370634e-01],\n",
       "        [-5.37725389e-01],\n",
       "        [-1.60127133e-01],\n",
       "        [-6.18612468e-02],\n",
       "        [ 1.03127018e-01],\n",
       "        [ 2.46224180e-02],\n",
       "        [-2.25880131e-01]], dtype=float32),\n",
       " array([-0.85302716], dtype=float32)]"
      ]
     },
     "execution_count": 4,
     "metadata": {},
     "output_type": "execute_result"
    }
   ],
   "source": [
    "model.get_weights()"
   ]
  },
  {
   "cell_type": "code",
   "execution_count": null,
   "metadata": {},
   "outputs": [],
   "source": [
    "# Step 2: Helper Functions\n",
    "# Function to decode reviews\n",
    "def decode_review(encoded_review):\n",
    "    return ' '.join([reverse_word_index.get(i - 3, '?') for i in encoded_review])\n",
    "\n",
    "# Function to preprocess user input\n",
    "def preprocess_text(text):\n",
    "    words = text.lower().split()    #.split() is used to split a string into a list of words \n",
    "    encoded_review = [word_index.get(word, 2) + 3 for word in words]  #word -> numbers(word index)\n",
    "    padded_review = sequence.pad_sequences([encoded_review], maxlen=500)\n",
    "    return padded_review"
   ]
  },
  {
   "cell_type": "markdown",
   "metadata": {},
   "source": [
    "### model.predict()\n",
    "→ Takes these word indices, passes them through layers:\n",
    "\n",
    "Embedding layer: Turns each word index into a vector.\n",
    "\n",
    "RNN layer: Processes the sequence of vectors to understand context.\n",
    "\n",
    "Dense layer: Outputs a single number (probability of being positive)."
   ]
  },
  {
   "cell_type": "code",
   "execution_count": null,
   "metadata": {},
   "outputs": [],
   "source": [
    "### Prediction  function\n",
    "\n",
    "def predict_sentiment(review):\n",
    "    preprocessed_input=preprocess_text(review)  #it turns the input text into a fixed-length list of word indices\n",
    "\n",
    "    prediction=model.predict(preprocessed_input)\n",
    "\n",
    "    sentiment = 'Positive' if prediction[0][0] > 0.5 else 'Negative'\n",
    "    \n",
    "    return sentiment, prediction[0][0]\n",
    "\n"
   ]
  },
  {
   "cell_type": "markdown",
   "metadata": {},
   "source": [
    "Why prediction[0][0] instead of just [0]?\n",
    "The model output shape is (1, 1) because:\n",
    "\n",
    "You're passing 1 review (batch size = 1).\n",
    "\n",
    "The final layer is Dense(1) → gives 1 probability per review.\n",
    "\n",
    "So, the output looks like: [[0.92]]\n",
    "\n",
    "prediction[0] → [0.92] (still a list/array)\n",
    "\n",
    "prediction[0][0] → 0.92 (actual scalar value)"
   ]
  },
  {
   "cell_type": "code",
   "execution_count": 7,
   "metadata": {},
   "outputs": [
    {
     "name": "stdout",
     "output_type": "stream",
     "text": [
      "\u001b[1m1/1\u001b[0m \u001b[32m━━━━━━━━━━━━━━━━━━━━\u001b[0m\u001b[37m\u001b[0m \u001b[1m0s\u001b[0m 144ms/step\n",
      "Review: This movie was fantastic! The acting was great and the plot was thrilling.\n",
      "Sentiment: Positive\n",
      "Prediction Score: 0.6871834993362427\n"
     ]
    }
   ],
   "source": [
    "# Step 4: User Input and Prediction\n",
    "# Example review for prediction\n",
    "example_review = \"This movie was fantastic! The acting was great and the plot was thrilling.\"\n",
    "\n",
    "sentiment,score=predict_sentiment(example_review)\n",
    "\n",
    "print(f'Review: {example_review}')\n",
    "print(f'Sentiment: {sentiment}')\n",
    "print(f'Prediction Score: {score}')"
   ]
  },
  {
   "cell_type": "code",
   "execution_count": null,
   "metadata": {},
   "outputs": [],
   "source": []
  },
  {
   "cell_type": "code",
   "execution_count": null,
   "metadata": {},
   "outputs": [],
   "source": []
  },
  {
   "cell_type": "code",
   "execution_count": null,
   "metadata": {},
   "outputs": [],
   "source": []
  },
  {
   "cell_type": "code",
   "execution_count": null,
   "metadata": {},
   "outputs": [],
   "source": []
  }
 ],
 "metadata": {
  "kernelspec": {
   "display_name": "Python 3",
   "language": "python",
   "name": "python3"
  },
  "language_info": {
   "codemirror_mode": {
    "name": "ipython",
    "version": 3
   },
   "file_extension": ".py",
   "mimetype": "text/x-python",
   "name": "python",
   "nbconvert_exporter": "python",
   "pygments_lexer": "ipython3",
   "version": "3.9.11"
  }
 },
 "nbformat": 4,
 "nbformat_minor": 2
}
